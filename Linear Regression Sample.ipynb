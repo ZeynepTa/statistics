{
 "cells": [
  {
   "cell_type": "markdown",
   "id": "0bb27a94",
   "metadata": {},
   "source": [
    "# **Correlation & Covariance**"
   ]
  },
  {
   "cell_type": "code",
   "execution_count": 2,
   "id": "34db35b6",
   "metadata": {
    "ExecuteTime": {
     "end_time": "2024-06-27T18:47:55.636789Z",
     "start_time": "2024-06-27T18:47:55.633664Z"
    }
   },
   "outputs": [],
   "source": [
    "import numpy as np\n",
    "import matplotlib.pyplot as plt\n",
    "import seaborn as sns\n",
    "from scipy import stats"
   ]
  },
  {
   "cell_type": "markdown",
   "id": "6e2880b5",
   "metadata": {},
   "source": [
    "# SciPy"
   ]
  },
  {
   "cell_type": "code",
   "execution_count": 3,
   "id": "27d94b8b",
   "metadata": {
    "ExecuteTime": {
     "end_time": "2024-06-27T18:48:08.182792Z",
     "start_time": "2024-06-27T18:48:08.179742Z"
    }
   },
   "outputs": [],
   "source": [
    "Ekran_sure = [3,5,2,0.5,5,3,1,4,3,4]\n",
    "AGNO = [2.7,2.2,3.3,3.4,2,3,3.6,2.4,3.3,2.6]\n",
    "# ILK DEGER R DEGERI, 2.deger p-value\n",
    "#PEARSON R DEGERINI BULDUK= -0.92"
   ]
  },
  {
   "cell_type": "code",
   "execution_count": 4,
   "id": "0aa1880f",
   "metadata": {
    "ExecuteTime": {
     "end_time": "2024-06-27T18:48:35.418513Z",
     "start_time": "2024-06-27T18:48:35.362005Z"
    }
   },
   "outputs": [
    {
     "data": {
      "text/plain": [
       "PearsonRResult(statistic=-0.923717615539929, pvalue=0.00013500660655591806)"
      ]
     },
     "execution_count": 4,
     "metadata": {},
     "output_type": "execute_result"
    }
   ],
   "source": [
    "stats.pearsonr (Ekran_sure, AGNO)"
   ]
  },
  {
   "cell_type": "code",
   "execution_count": 6,
   "id": "dccbb136",
   "metadata": {
    "ExecuteTime": {
     "end_time": "2024-06-27T18:53:42.369590Z",
     "start_time": "2024-06-27T18:53:42.359226Z"
    }
   },
   "outputs": [
    {
     "data": {
      "text/plain": [
       "PearsonRResult(statistic=-0.923717615539929, pvalue=0.00013500660655591806)"
      ]
     },
     "execution_count": 6,
     "metadata": {},
     "output_type": "execute_result"
    }
   ],
   "source": [
    "stats.pearsonr (AGNO, Ekran_sure)\n",
    "#x ve y degerleri yer degistirince yine ayni corr degeri bulundu"
   ]
  },
  {
   "cell_type": "code",
   "execution_count": 8,
   "id": "47403f73",
   "metadata": {
    "ExecuteTime": {
     "end_time": "2024-06-27T18:55:42.278781Z",
     "start_time": "2024-06-27T18:55:42.273259Z"
    }
   },
   "outputs": [
    {
     "data": {
      "text/plain": [
       "SignificanceResult(statistic=-0.9598673337282836, pvalue=1.0811839955228442e-05)"
      ]
     },
     "execution_count": 8,
     "metadata": {},
     "output_type": "execute_result"
    }
   ],
   "source": [
    "#spearman correaaltion coefficient\n",
    "stats.spearmanr(Ekran_sure,AGNO)\n",
    "#data seti normal dagilima uygun degilse her zaman spearman kullanilabilir."
   ]
  },
  {
   "cell_type": "markdown",
   "id": "e4f2699c",
   "metadata": {
    "ExecuteTime": {
     "end_time": "2024-06-27T16:54:52.939166Z",
     "start_time": "2024-06-27T16:54:52.934911Z"
    }
   },
   "source": [
    "# Numpy"
   ]
  },
  {
   "cell_type": "code",
   "execution_count": 9,
   "id": "e365b48c",
   "metadata": {
    "ExecuteTime": {
     "end_time": "2024-06-27T18:56:24.891036Z",
     "start_time": "2024-06-27T18:56:24.880427Z"
    }
   },
   "outputs": [
    {
     "data": {
      "text/plain": [
       "array([[ 0.30277778, -0.78055556],\n",
       "       [-0.78055556,  2.35833333]])"
      ]
     },
     "execution_count": 9,
     "metadata": {},
     "output_type": "execute_result"
    }
   ],
   "source": [
    "#covariance degerini bulalim\n",
    "np.cov (AGNO,Ekran_sure)\n",
    "#cov degeri -0.78 dir"
   ]
  },
  {
   "cell_type": "code",
   "execution_count": 10,
   "id": "c7649fe7",
   "metadata": {
    "ExecuteTime": {
     "end_time": "2024-06-27T18:58:01.246528Z",
     "start_time": "2024-06-27T18:58:01.241949Z"
    }
   },
   "outputs": [
    {
     "data": {
      "text/plain": [
       "array([[ 1.        , -0.92371762],\n",
       "       [-0.92371762,  1.        ]])"
      ]
     },
     "execution_count": 10,
     "metadata": {},
     "output_type": "execute_result"
    }
   ],
   "source": [
    "#correlation hesabi\n",
    "np.corrcoef (AGNO, Ekran_sure)\n",
    "#R=-0.92\n"
   ]
  },
  {
   "cell_type": "markdown",
   "id": "eacab139",
   "metadata": {},
   "source": [
    "#LINEAR REGRESSION"
   ]
  },
  {
   "cell_type": "code",
   "execution_count": null,
   "id": "26f5f4c2",
   "metadata": {},
   "outputs": [],
   "source": []
  },
  {
   "cell_type": "code",
   "execution_count": null,
   "id": "9652deb5",
   "metadata": {},
   "outputs": [],
   "source": []
  },
  {
   "cell_type": "code",
   "execution_count": 15,
   "id": "4441a405",
   "metadata": {
    "ExecuteTime": {
     "end_time": "2024-06-27T19:01:43.514141Z",
     "start_time": "2024-06-27T19:01:43.508665Z"
    }
   },
   "outputs": [
    {
     "data": {
      "text/plain": [
       "LinregressResult(slope=-0.330977620730271, intercept=3.859481743227327, rvalue=-0.923717615539929, pvalue=0.00013500660655591895, stderr=0.048528537277862514, intercept_stderr=0.16403076320924556)"
      ]
     },
     "execution_count": 15,
     "metadata": {},
     "output_type": "execute_result"
    }
   ],
   "source": [
    "#Lineer regresyon denklemi icin x ve y nin siralamasi onemli\n",
    "#scipy in linregres modulu icin ilgili dokumana bakilirsa once x sonra y yazilacagi gorulur.\n",
    "stats.linregress(Ekran_sure, AGNO)"
   ]
  },
  {
   "cell_type": "code",
   "execution_count": 16,
   "id": "cb9abb5d",
   "metadata": {
    "ExecuteTime": {
     "end_time": "2024-06-27T19:05:03.171943Z",
     "start_time": "2024-06-27T19:05:03.169067Z"
    }
   },
   "outputs": [],
   "source": [
    "slope, intercept, r_value, p_value, std_err = stats.linregress(Ekran_sure, AGNO)\n",
    "# yukarda fonksiyon ile return edilen degerleri variable lara atadık"
   ]
  },
  {
   "cell_type": "code",
   "execution_count": 17,
   "id": "78bb017e",
   "metadata": {
    "ExecuteTime": {
     "end_time": "2024-06-27T19:05:07.804418Z",
     "start_time": "2024-06-27T19:05:07.799240Z"
    }
   },
   "outputs": [
    {
     "data": {
      "text/plain": [
       "-0.330977620730271"
      ]
     },
     "execution_count": 17,
     "metadata": {},
     "output_type": "execute_result"
    }
   ],
   "source": [
    "slope"
   ]
  },
  {
   "cell_type": "code",
   "execution_count": 18,
   "id": "6ecac13e",
   "metadata": {
    "ExecuteTime": {
     "end_time": "2024-06-27T19:05:10.237322Z",
     "start_time": "2024-06-27T19:05:10.232662Z"
    }
   },
   "outputs": [
    {
     "data": {
      "text/plain": [
       "3.859481743227327"
      ]
     },
     "execution_count": 18,
     "metadata": {},
     "output_type": "execute_result"
    }
   ],
   "source": [
    "intercept"
   ]
  },
  {
   "cell_type": "code",
   "execution_count": 19,
   "id": "76eb3f09",
   "metadata": {
    "ExecuteTime": {
     "end_time": "2024-06-27T19:06:10.565527Z",
     "start_time": "2024-06-27T19:06:10.561482Z"
    }
   },
   "outputs": [
    {
     "data": {
      "text/plain": [
       "-0.923717615539929"
      ]
     },
     "execution_count": 19,
     "metadata": {},
     "output_type": "execute_result"
    }
   ],
   "source": [
    "r_value"
   ]
  },
  {
   "cell_type": "code",
   "execution_count": 20,
   "id": "f3175ef9",
   "metadata": {
    "ExecuteTime": {
     "end_time": "2024-06-27T19:06:34.754375Z",
     "start_time": "2024-06-27T19:06:34.751307Z"
    }
   },
   "outputs": [],
   "source": [
    "#R2 hesabid = \n",
    "R_squared= r_value**2\n",
    "R_squared\n",
    "#aciklana kisim % 85 seviye "
   ]
  },
  {
   "cell_type": "code",
   "execution_count": 21,
   "id": "a33d26ea",
   "metadata": {
    "ExecuteTime": {
     "end_time": "2024-06-27T19:11:01.446689Z",
     "start_time": "2024-06-27T19:11:01.442549Z"
    }
   },
   "outputs": [],
   "source": [
    "# şimdi burada bir prediction yapalım..\n",
    "# x_p kısmı hesaplamak istediğimiz x değerleridir\n",
    "# y_p de denklem sonucu hesaplanack sonuçlar\n",
    "x_p = np.array([0,1,2,3,4,5])\n"
   ]
  },
  {
   "cell_type": "code",
   "execution_count": 22,
   "id": "d9441706",
   "metadata": {
    "ExecuteTime": {
     "end_time": "2024-06-27T19:11:04.436284Z",
     "start_time": "2024-06-27T19:11:04.430485Z"
    }
   },
   "outputs": [],
   "source": [
    "y_p = intercept + slope * x_p"
   ]
  },
  {
   "cell_type": "code",
   "execution_count": 23,
   "id": "723872eb",
   "metadata": {
    "ExecuteTime": {
     "end_time": "2024-06-27T19:11:47.075306Z",
     "start_time": "2024-06-27T19:11:47.067330Z"
    }
   },
   "outputs": [
    {
     "data": {
      "text/plain": [
       "array([3.85948174, 3.52850412, 3.1975265 , 2.86654888, 2.53557126,\n",
       "       2.20459364])"
      ]
     },
     "execution_count": 23,
     "metadata": {},
     "output_type": "execute_result"
    }
   ],
   "source": [
    "y_p"
   ]
  },
  {
   "cell_type": "code",
   "execution_count": 24,
   "id": "0cfb1350",
   "metadata": {
    "ExecuteTime": {
     "end_time": "2024-06-27T19:12:04.691013Z",
     "start_time": "2024-06-27T19:12:04.685779Z"
    }
   },
   "outputs": [],
   "source": [
    "#linspace ile 0-5 arasında eşit aralıklı 100 değer olsun\n",
    "# Bu, genellikle bir çizgi grafiği çizmek için düzgün bir x eksen değerleri seti oluşturmak amacıyla yapılır.\n",
    "# slope ve intercept degerleri yukardan alınıyor\n",
    "x_new = np.linspace(0,5,100)\n",
    "y_new = intercept + slope * x_new"
   ]
  },
  {
   "cell_type": "code",
   "execution_count": 25,
   "id": "88d70eee",
   "metadata": {
    "ExecuteTime": {
     "end_time": "2024-06-27T19:12:12.426960Z",
     "start_time": "2024-06-27T19:12:12.419276Z"
    }
   },
   "outputs": [],
   "source": [
    "#linspace ile 0-5 arasında eşit aralıklı 100 değer olsun\n",
    "# Bu, genellikle bir çizgi grafiği çizmek için düzgün bir x eksen değerleri seti oluşturmak amacıyla yapılır.\n",
    "# slope ve intercept degerleri yukardan alınıyor\n",
    "x_new = np.linspace(0,5,100)\n",
    "y_new = intercept + slope * x_new"
   ]
  },
  {
   "cell_type": "code",
   "execution_count": 26,
   "id": "54cc233d",
   "metadata": {
    "ExecuteTime": {
     "end_time": "2024-06-27T19:12:33.700768Z",
     "start_time": "2024-06-27T19:12:33.691553Z"
    }
   },
   "outputs": [
    {
     "data": {
      "text/plain": [
       "array([3.85948174, 3.52850412, 3.1975265 , 2.86654888, 2.53557126,\n",
       "       2.20459364])"
      ]
     },
     "execution_count": 26,
     "metadata": {},
     "output_type": "execute_result"
    }
   ],
   "source": [
    "y_p"
   ]
  },
  {
   "cell_type": "code",
   "execution_count": 27,
   "id": "4aa54114",
   "metadata": {
    "ExecuteTime": {
     "end_time": "2024-06-27T19:12:54.927971Z",
     "start_time": "2024-06-27T19:12:54.924883Z"
    }
   },
   "outputs": [],
   "source": [
    "#linspace ile 0-5 arasında eşit aralıklı 100 değer olsun\n",
    "# Bu, genellikle bir çizgi grafiği çizmek için düzgün bir x eksen değerleri seti oluşturmak amacıyla yapılır.\n",
    "# slope ve intercept degerleri yukardan alınıyor\n",
    "x_new = np.linspace(0,5,100)\n",
    "y_new = intercept + slope * x_new"
   ]
  },
  {
   "cell_type": "code",
   "execution_count": 28,
   "id": "0b179dd1",
   "metadata": {
    "ExecuteTime": {
     "end_time": "2024-06-27T19:13:58.791090Z",
     "start_time": "2024-06-27T19:13:58.636797Z"
    }
   },
   "outputs": [
    {
     "data": {
      "image/png": "[encoded data removed]",
      "text/plain": [
       "<Figure size 800x600 with 1 Axes>"
      ]
     },
     "metadata": {},
     "output_type": "display_data"
    }
   ],
   "source": [
    "#burada data setini çizdirip üzerine de üst satırdaki line ı fitted line olarak  çizdireceğiz\n",
    "plt.figure(figsize=(8,6))\n",
    "ax = plt.axes()     #\n",
    "ax.scatter(Ekran_sure, AGNO)\n",
    "ax.plot(x_new, y_new)\n",
    "ax.set_xlabel(\"Ekran Sure\")\n",
    "ax.set_ylabel(\"AGNO\")\n",
    "ax.axis(\"tight\")\n",
    "plt.show()"
   ]
  },
  {
   "cell_type": "code",
   "execution_count": null,
   "id": "3213da09",
   "metadata": {},
   "outputs": [],
   "source": []
  }
 ],
 "metadata": {
  "hide_input": false,
  "kernelspec": {
   "display_name": "Python 3 (ipykernel)",
   "language": "python",
   "name": "python3"
  },
  "language_info": {
   "codemirror_mode": {
    "name": "ipython",
    "version": 3
   },
   "file_extension": ".py",
   "mimetype": "text/x-python",
   "name": "python",
   "nbconvert_exporter": "python",
   "pygments_lexer": "ipython3",
   "version": "3.11.5"
  },
  "toc": {
   "base_numbering": 1,
   "nav_menu": {},
   "number_sections": true,
   "sideBar": true,
   "skip_h1_title": false,
   "title_cell": "Table of Contents",
   "title_sidebar": "Contents",
   "toc_cell": false,
   "toc_position": {},
   "toc_section_display": true,
   "toc_window_display": false
  }
 },
 "nbformat": 4,
 "nbformat_minor": 5
}
